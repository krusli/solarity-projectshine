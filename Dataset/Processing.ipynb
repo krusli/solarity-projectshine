{
 "cells": [
  {
   "cell_type": "code",
   "execution_count": 1,
   "metadata": {
    "collapsed": true
   },
   "outputs": [],
   "source": [
    "import pandas as pd\n",
    "import numpy as np"
   ]
  },
  {
   "cell_type": "code",
   "execution_count": 2,
   "metadata": {
    "collapsed": false
   },
   "outputs": [],
   "source": [
    "# df = pd.read_csv('solar radiation.csv', delimiter=',', encoding=\"utf-8-sig\")\n",
    "df = pd.read_csv('barometric pressure.csv')\n",
    "df2 = pd.read_csv('solar radiation.csv')"
   ]
  },
  {
   "cell_type": "code",
   "execution_count": 3,
   "metadata": {
    "collapsed": false
   },
   "outputs": [],
   "source": [
    "df['year'], df['month'], df['day'] = df['date'].str.split('-', 2).str\n",
    "df['hour'], df['min'], df['sec'] = df['localTime'].str.split(':', 2).str\n",
    "df2['year'], df2['month'], df2['day'] = df2['date'].str.split('-', 2).str\n",
    "df2['hour'], df2['min'], df2['sec'] = df2['localTime'].str.split(':', 2).str"
   ]
  },
  {
   "cell_type": "code",
   "execution_count": 4,
   "metadata": {
    "collapsed": false
   },
   "outputs": [],
   "source": [
    "df = df.drop('date', 1)\n",
    "df = df.drop('localTime', 1)\n",
    "\n",
    "df = df.drop('rowNo', 1)\n",
    "df = df.drop('text', 1)\n",
    "df = df.drop('unixDate', 1)\n",
    "#\n",
    "df2 = df2.drop('date', 1)\n",
    "df2 = df2.drop('localTime', 1)\n",
    "\n",
    "df2 = df2.drop('rowNo', 1)\n",
    "df2 = df2.drop('text', 1)\n",
    "df2 = df2.drop('unixDate', 1)"
   ]
  },
  {
   "cell_type": "code",
   "execution_count": 5,
   "metadata": {
    "collapsed": false
   },
   "outputs": [],
   "source": [
    "df = df.groupby(['year', 'month', 'day', 'hour']).mean().reset_index()\n",
    "df2 = df2.groupby(['year', 'month', 'day', 'hour']).mean().reset_index()"
   ]
  },
  {
   "cell_type": "code",
   "execution_count": 6,
   "metadata": {
    "collapsed": false
   },
   "outputs": [],
   "source": [
    "result = df.merge(df2, on=['year', 'month', 'day', 'hour'])"
   ]
  },
  {
   "cell_type": "code",
   "execution_count": 7,
   "metadata": {
    "collapsed": false
   },
   "outputs": [],
   "source": [
    "result.to_csv('result.csv')"
   ]
  },
  {
   "cell_type": "code",
   "execution_count": 8,
   "metadata": {
    "collapsed": false
   },
   "outputs": [],
   "source": [
    "# df_grouped = df.groupby(['month', 'hour']).mean()\n",
    "# df_grouped.to_csv('_solar radiation grouped.csv')"
   ]
  }
 ],
 "metadata": {
  "kernelspec": {
   "display_name": "Python 3",
   "language": "python",
   "name": "python3"
  },
  "language_info": {
   "codemirror_mode": {
    "name": "ipython",
    "version": 3
   },
   "file_extension": ".py",
   "mimetype": "text/x-python",
   "name": "python",
   "nbconvert_exporter": "python",
   "pygments_lexer": "ipython3",
   "version": "3.6.0"
  }
 },
 "nbformat": 4,
 "nbformat_minor": 2
}
